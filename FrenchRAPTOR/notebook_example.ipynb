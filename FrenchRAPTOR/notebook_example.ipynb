{
 "cells": [
  {
   "cell_type": "code",
   "execution_count": null,
   "metadata": {},
   "outputs": [],
   "source": [
    "from sentence_transformers import SentenceTransformer\n",
    "from dotenv import load_dotenv, find_dotenv\n",
    "\n",
    "_ = load_dotenv(find_dotenv()) # HuggingFace API Token"
   ]
  },
  {
   "cell_type": "code",
   "execution_count": null,
   "metadata": {},
   "outputs": [],
   "source": [
    "document = []"
   ]
  },
  {
   "cell_type": "code",
   "execution_count": null,
   "metadata": {},
   "outputs": [],
   "source": [
    "# The original FrenchRaptor class does not integrate the HuggingFace model and the SentenceTransformer within it to enable it to be easily adapted. \n",
    "# To use it in the same condition, you can \n",
    "model = SentenceTransformer(\"all-MiniLM-L12-v2\")\n",
    "\n",
    "Raptor = FrenchRAPTOR(model.encode, # The function to embed the documents\n",
    "                           model_llm=\"mistralai/Mixtral-8x7B-Instruct-v0.1\", # the HuggingFace repository ID\n",
    "                           context=\"AiAct, texte de loi de régularisation européenne de l'intelligence artificielle\") # A small context"
   ]
  },
  {
   "cell_type": "code",
   "execution_count": null,
   "metadata": {},
   "outputs": [],
   "source": [
    "dict_summaries, corpus = Raptor.fit(chunks=document)"
   ]
  },
  {
   "cell_type": "code",
   "execution_count": null,
   "metadata": {},
   "outputs": [],
   "source": [
    "Raptor.plot_silhouette()"
   ]
  }
 ],
 "metadata": {
  "language_info": {
   "name": "python"
  }
 },
 "nbformat": 4,
 "nbformat_minor": 2
}
